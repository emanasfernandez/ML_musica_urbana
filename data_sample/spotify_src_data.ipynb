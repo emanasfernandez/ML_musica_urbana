{
 "cells": [
  {
   "cell_type": "markdown",
   "metadata": {},
   "source": [
    "musica urbana"
   ]
  },
  {
   "cell_type": "code",
   "execution_count": 1,
   "metadata": {},
   "outputs": [
    {
     "name": "stdout",
     "output_type": "stream",
     "text": [
      "Token obtenido: BQC5hWA7rjXDTJXnFuH_Iv4PMPmPMn74NCem1d1wNKguAAF5JxZCHpNmbyShCj5H3FUDsYSicx5dQzYQLIrrjLFIIGDiIaOIMsV8tbG06o2S8Biom8TWvIwqpzEGIfFsWXdH8sU-cys\n"
     ]
    }
   ],
   "source": [
    "import requests\n",
    "\n",
    "# Datos necesarios para la autenticación\n",
    "client_id = \"a5df46ce109348498ac463cd83a3465d\"  # Reemplaza con tu client ID\n",
    "client_secret = \"5f1ba3e73cb84469bfc1d9f618f09434\"  # Reemplaza con tu client secret\n",
    "\n",
    "# URL del endpoint de Spotify para obtener el token\n",
    "auth_url = \"https://accounts.spotify.com/api/token\"\n",
    "\n",
    "# Encabezados y datos de la solicitud\n",
    "headers = {\n",
    "    \"Content-Type\": \"application/x-www-form-urlencoded\"\n",
    "}\n",
    "data = {\n",
    "    \"grant_type\": \"client_credentials\",\n",
    "    \"client_id\": client_id,\n",
    "    \"client_secret\": client_secret\n",
    "}\n",
    "\n",
    "# Hacer la solicitud POST\n",
    "response = requests.post(auth_url, headers=headers, data=data)\n",
    "\n",
    "# Verificar el estado y obtener el token\n",
    "if response.status_code == 200:\n",
    "    token = response.json().get(\"access_token\")\n",
    "    print(f\"Token obtenido: {token}\")\n",
    "else:\n",
    "    print(f\"Error al obtener el token: {response.status_code}\")\n",
    "    print(response.json())\n"
   ]
  },
  {
   "cell_type": "code",
   "execution_count": 2,
   "metadata": {},
   "outputs": [
    {
     "name": "stdout",
     "output_type": "stream",
     "text": [
      "Ve a esta URL para autorizar la app:\n",
      "https://accounts.spotify.com/authorize?client_id=a5df46ce109348498ac463cd83a3465d&response_type=code&redirect_uri=https%3A%2F%2Femanasfernandez.github.io%2Fspotify_authentication%2Fcallback.html&scope=playlist-modify-public+playlist-modify-private\n"
     ]
    }
   ],
   "source": [
    "import urllib.parse\n",
    "\n",
    "client_id = \"a5df46ce109348498ac463cd83a3465d\"\n",
    "redirect_uri = \"https://emanasfernandez.github.io/spotify_authentication/callback.html\"\n",
    "scope = \"playlist-modify-public playlist-modify-private\"\n",
    "\n",
    "auth_url = \"https://accounts.spotify.com/authorize?\" + urllib.parse.urlencode({\n",
    "    \"client_id\": client_id,\n",
    "    \"response_type\": \"code\",\n",
    "    \"redirect_uri\": redirect_uri,\n",
    "    \"scope\": scope\n",
    "})\n",
    "\n",
    "print(\"Ve a esta URL para autorizar la app:\")\n",
    "print(auth_url)"
   ]
  },
  {
   "cell_type": "code",
   "execution_count": 3,
   "metadata": {},
   "outputs": [
    {
     "name": "stdout",
     "output_type": "stream",
     "text": [
      "{'access_token': 'BQCfqotLUzcIPdeK3a5yJkg7CdDlyTKbbYP7pmVvcwgH8vidnu6Oaqyhn-fgQGrTwz6XQJbehcSiEyIbekrQa-eazarJ_mLoa0hzSAd0o6rOSUOY094ItB8QNPLwr9Un_fQIzkHcpuzJvlcTKsCzSTTMuIt-OVWzwhhE_tg60QDqHq-UN5DpYEGZHxj8YV4vumYvAUJcngU1RXbM-sLE_DzQ0ycf9qbqxfQirmIb3tTYAi4v4MyXULqHU24R4iuMlkgR03WtncihJrFGsLUf', 'token_type': 'Bearer', 'expires_in': 3600, 'refresh_token': 'AQDSALEWhry18t_gVeEKihjvzg-RoVNsrFQmVBKJVOwFcULaKZjrXISDE8iyAUi7Z0xPXhbSFHXY2_GecUpMX4IXD63vqSReLvL69l0XkK8vU3V9H4wDSF39WvbZsbx3XbU', 'scope': 'playlist-modify-private playlist-modify-public'}\n"
     ]
    }
   ],
   "source": [
    "import requests\n",
    "\n",
    "token_url = \"https://accounts.spotify.com/api/token\"\n",
    "data = {\n",
    "    \"grant_type\": \"authorization_code\",\n",
    "    \"code\": \"AQBf2PXCx2T9tQV4mL6nYDUlBbIfLUAyt9QZGodkmCv6vUJStU-hUVBRAfGE76jfOGZqxe0Ke2JEqUiXJQ-B8WkS65aKEqjWN1QDXQ6Mlub6kLmGoinfBeEsEbEssbBxGP_4XwcG9jT5iEomIiOKSt-AZOLzDEYeOeLc1Jc5TTbD2ji2K0jXQ3r6Crb5O5eP1PpAeFGInE0R-JrOb5sqTZpKq7MBob7CyuuO5eKSOkb7hbYshmbGXH1rt31qpaDQV8SEf74bDiksOsauNdphGLQyWbhEV9VH_ytM\",\n",
    "    \"redirect_uri\": \"https://emanasfernandez.github.io/spotify_authentication/callback.html\",\n",
    "    \"client_id\": \"a5df46ce109348498ac463cd83a3465d\",\n",
    "    \"client_secret\": \"5f1ba3e73cb84469bfc1d9f618f09434\"\n",
    "}\n",
    "\n",
    "response = requests.post(token_url, data=data)\n",
    "print(response.json())  # Aquí aparecerá el token de acceso"
   ]
  },
  {
   "cell_type": "code",
   "execution_count": 6,
   "metadata": {},
   "outputs": [
    {
     "name": "stdout",
     "output_type": "stream",
     "text": [
      "🎵 Canciones totales únicas encontradas: 6568\n",
      "✅ ¡Listo! Playlist 1 (máx 5000): https://open.spotify.com/playlist/1KFqA3Z5nGAn98mstzHMFf\n",
      "✅ ¡Listo! Playlist 2 (resto): https://open.spotify.com/playlist/7qRVKYyUf47nmqOKLP6YY1\n"
     ]
    }
   ],
   "source": [
    "import requests\n",
    "import time\n",
    "\n",
    "# 🔹 Configura tu token de acceso y tu User ID (puedes obtenerlos desde la API de Spotify)\n",
    "TOKEN = 'BQCfqotLUzcIPdeK3a5yJkg7CdDlyTKbbYP7pmVvcwgH8vidnu6Oaqyhn-fgQGrTwz6XQJbehcSiEyIbekrQa-eazarJ_mLoa0hzSAd0o6rOSUOY094ItB8QNPLwr9Un_fQIzkHcpuzJvlcTKsCzSTTMuIt-OVWzwhhE_tg60QDqHq-UN5DpYEGZHxj8YV4vumYvAUJcngU1RXbM-sLE_DzQ0ycf9qbqxfQirmIb3tTYAi4v4MyXULqHU24R4iuMlkgR03WtncihJrFGsLUf'  # Necesitas un token de Spotify API (ver instrucciones abajo)\n",
    "USER_ID = '11178806312'\n",
    "SOURCE_PLAYLISTS = [\"01kG4cMyhUV51JevmxIJFP\", \"3GeR2Qz1JYVNdizXjOQLtY\", \"7lmhamslYnUqomcTf9qBg1\", \"1xO22GDQbfmYbFOIzsOusU\"]\n",
    "\n",
    "headers = {\n",
    "    \"Authorization\": f\"Bearer {TOKEN}\",\n",
    "    \"Content-Type\": \"application/json\"\n",
    "}\n",
    "\n",
    "# 🔹 1. Obtener TODAS las canciones únicas de las playlists fuente\n",
    "track_uris = set()\n",
    "limit = 100\n",
    "\n",
    "for playlist_id in SOURCE_PLAYLISTS:\n",
    "    offset = 0\n",
    "    while True:\n",
    "        url = f\"https://api.spotify.com/v1/playlists/{playlist_id}/tracks?limit={limit}&offset={offset}\"\n",
    "        response = requests.get(url, headers=headers)\n",
    "        data = response.json()\n",
    "        items = data.get(\"items\", [])\n",
    "        if not items:\n",
    "            break\n",
    "\n",
    "        for track in items:\n",
    "            if track.get(\"track\"):\n",
    "                uri = track[\"track\"][\"uri\"]\n",
    "                track_uris.add(uri)\n",
    "\n",
    "        offset += limit\n",
    "        time.sleep(0.2)  # Por si acaso\n",
    "\n",
    "track_uris = list(track_uris)\n",
    "print(f\"🎵 Canciones totales únicas encontradas: {len(track_uris)}\")\n",
    "\n",
    "# 🔹 2. Crear dos playlists nuevas\n",
    "def crear_playlist(nombre):\n",
    "    data = {\n",
    "        \"name\": nombre,\n",
    "        \"description\": \"Parte de la playlist fusionada automáticamente\",\n",
    "        \"public\": True\n",
    "    }\n",
    "    url = f\"https://api.spotify.com/v1/users/{USER_ID}/playlists\"\n",
    "    response = requests.post(url, headers=headers, json=data)\n",
    "    return response.json()[\"id\"]\n",
    "\n",
    "playlist_1_id = crear_playlist(\"Mi Playlist Parte 1 (máx 5000)\")\n",
    "playlist_2_id = crear_playlist(\"Mi Playlist Parte 2 (resto)\")\n",
    "\n",
    "# 🔹 3. Dividir las canciones\n",
    "playlist_1_tracks = track_uris[:5000]\n",
    "playlist_2_tracks = track_uris[5000:]\n",
    "\n",
    "# 🔹 4. Añadir canciones por bloques de 100\n",
    "def añadir_a_playlist(playlist_id, uris):\n",
    "    for i in range(0, len(uris), 100):\n",
    "        chunk = uris[i:i+100]\n",
    "        url = f\"https://api.spotify.com/v1/playlists/{playlist_id}/tracks\"\n",
    "        requests.post(url, headers=headers, json={\"uris\": chunk})\n",
    "        time.sleep(0.2)\n",
    "\n",
    "añadir_a_playlist(playlist_1_id, playlist_1_tracks)\n",
    "añadir_a_playlist(playlist_2_id, playlist_2_tracks)\n",
    "\n",
    "# 🔹 5. Confirmación\n",
    "print(f\"✅ ¡Listo! Playlist 1 (máx 5000): https://open.spotify.com/playlist/{playlist_1_id}\")\n",
    "print(f\"✅ ¡Listo! Playlist 2 (resto): https://open.spotify.com/playlist/{playlist_2_id}\")\n"
   ]
  },
  {
   "cell_type": "code",
   "execution_count": null,
   "metadata": {},
   "outputs": [],
   "source": [
    "\n",
    "headers = {\n",
    "    \"Authorization\": f\"Bearer {TOKEN}\",\n",
    "    \"Content-Type\": \"application/json\"\n",
    "}\n",
    "\n",
    "# 🔹 Crear una nueva playlist\n",
    "create_playlist_url = f\"https://api.spotify.com/v1/users/{USER_ID}/playlists\"\n",
    "data = {\n",
    "    \"name\": \"Mi Copia de la Playlist\",\n",
    "    \"description\": \"Playlist clonada automáticamente con la API\",\n",
    "    \"public\": True\n",
    "}\n",
    "\n",
    "response = requests.post(create_playlist_url, headers=headers, json=data)\n",
    "new_playlist_id = response.json()[\"id\"]\n",
    "\n",
    "# 🔹 Obtener TODAS las canciones de la playlist original (manejo de paginación)\n",
    "track_uris = []\n",
    "offset = 0\n",
    "limit = 100  # Spotify permite un máximo de 100 canciones por petición\n",
    "\n",
    "while True:\n",
    "    get_tracks_url = f\"https://api.spotify.com/v1/playlists/{SOURCE_PLAYLIST_ID}/tracks?limit={limit}&offset={offset}\"\n",
    "    response = requests.get(get_tracks_url, headers=headers)\n",
    "    tracks = response.json()[\"items\"]\n",
    "\n",
    "    if not tracks:\n",
    "        break  # Si no hay más canciones, salir del bucle\n",
    "\n",
    "    track_uris.extend([track[\"track\"][\"uri\"] for track in tracks])\n",
    "    offset += limit  # Aumentar el offset para la próxima petición\n",
    "\n",
    "# 🔹 Agregar TODAS las canciones a la nueva playlist\n",
    "add_tracks_url = f\"https://api.spotify.com/v1/playlists/{new_playlist_id}/tracks\"\n",
    "\n",
    "# Spotify permite agregar máximo 100 canciones por solicitud\n",
    "for i in range(0, len(track_uris), 100):\n",
    "    requests.post(add_tracks_url, headers=headers, json={\"uris\": track_uris[i:i+100]})\n",
    "\n",
    "print(f\"✅ Playlist copiada con éxito: https://open.spotify.com/playlist/{new_playlist_id}\")"
   ]
  },
  {
   "cell_type": "code",
   "execution_count": 21,
   "metadata": {},
   "outputs": [
    {
     "name": "stdout",
     "output_type": "stream",
     "text": [
      "✅ ¡Playlist actualizada con éxito!: https://open.spotify.com/playlist/56MPbCEQSwdFZywATniszK\n"
     ]
    }
   ],
   "source": [
    "import requests\n",
    "\n",
    "# 🔹 Configurar credenciales y datos\n",
    "TOKEN = \"BQA9ZowqPOypPeAdQ55OFxYYL1Pk9w5GPvf-lPf1xSHKy8gd40YMK9MZMq8dAMMBqZpDIf1Iwd42Ryji_pl0dduYSArmW4buV8F_zDGZZWTWL40kLfb_jg7sI6UdtbN08EgbdQoTmMUM_UqK6hzAZPCMuL8jBVmsfjiWs8Lj6mPYw5FYrtSr_tMvpumuALxj1KJS51mIKVYQH-Ik62qqzGnwjbGTEFMEqPSvcv9YkyPxFiobZruSHuJoyAC3tG7HnqKSynGyLW90Zxoe\"  # Reemplázalo con tu token válido\n",
    "NEW_PLAYLIST_ID = \"56MPbCEQSwdFZywATniszK\"  # ID de la playlist que creaste\n",
    "SOURCE_PLAYLISTS = [\"3GeR2Qz1JYVNdizXjOQLtY\", \"7lmhamslYnUqomcTf9qBg1\", '1xO22GDQbfmYbFOIzsOusU']  # IDs de las playlists a fusionar\n",
    "\n",
    "headers = {\n",
    "    \"Authorization\": f\"Bearer {TOKEN}\",\n",
    "    \"Content-Type\": \"application/json\"\n",
    "}\n",
    "\n",
    "# 🔹 Obtener las canciones que ya están en la nueva playlist\n",
    "existing_tracks = set()  # Usamos un set para evitar duplicados\n",
    "offset = 0\n",
    "limit = 100\n",
    "\n",
    "while True:\n",
    "    get_tracks_url = f\"https://api.spotify.com/v1/playlists/{NEW_PLAYLIST_ID}/tracks?limit={limit}&offset={offset}\"\n",
    "    response = requests.get(get_tracks_url, headers=headers)\n",
    "    tracks = response.json().get(\"items\", [])\n",
    "\n",
    "    if not tracks:\n",
    "        break\n",
    "\n",
    "    existing_tracks.update([track[\"track\"][\"uri\"] for track in tracks if track.get(\"track\")])  # ✅ Validar que \"track\" no sea None\n",
    "    offset += limit\n",
    "\n",
    "# 🔹 Obtener las canciones de las playlists de origen y evitar duplicados\n",
    "track_uris_to_add = set()\n",
    "\n",
    "for playlist_id in SOURCE_PLAYLISTS:\n",
    "    offset = 0\n",
    "    while True:\n",
    "        get_tracks_url = f\"https://api.spotify.com/v1/playlists/{playlist_id}/tracks?limit={limit}&offset={offset}\"\n",
    "        response = requests.get(get_tracks_url, headers=headers)\n",
    "        tracks = response.json().get(\"items\", [])\n",
    "\n",
    "        if not tracks:\n",
    "            break\n",
    "\n",
    "        for track in tracks:\n",
    "            if track.get(\"track\"):  # ✅ Validar que \"track\" no sea None\n",
    "                track_uri = track[\"track\"][\"uri\"]\n",
    "                if track_uri not in existing_tracks:  # Solo agregar si no está en la playlist\n",
    "                    track_uris_to_add.add(track_uri)\n",
    "\n",
    "        offset += limit\n",
    "\n",
    "# 🔹 Agregar las canciones nuevas a la playlist\n",
    "add_tracks_url = f\"https://api.spotify.com/v1/playlists/{NEW_PLAYLIST_ID}/tracks\"\n",
    "\n",
    "track_uris_to_add = list(track_uris_to_add)  # Convertir a lista para procesamiento\n",
    "\n",
    "for i in range(0, len(track_uris_to_add), 100):  # Spotify solo permite 100 canciones por petición\n",
    "    requests.post(add_tracks_url, headers=headers, json={\"uris\": track_uris_to_add[i:i+100]})\n",
    "\n",
    "print(f\"✅ ¡Playlist actualizada con éxito!: https://open.spotify.com/playlist/{NEW_PLAYLIST_ID}\")"
   ]
  },
  {
   "cell_type": "code",
   "execution_count": 22,
   "metadata": {},
   "outputs": [
    {
     "name": "stdout",
     "output_type": "stream",
     "text": [
      "Canciones a añadir: 2597\n"
     ]
    }
   ],
   "source": [
    "print(f\"Canciones a añadir: {len(track_uris_to_add)}\")"
   ]
  },
  {
   "cell_type": "code",
   "execution_count": null,
   "metadata": {},
   "outputs": [
    {
     "name": "stdout",
     "output_type": "stream",
     "text": [
      "{'error': {'status': 401, 'message': 'The access token expired'}}\n"
     ]
    }
   ],
   "source": [
    "print(response.json())\n"
   ]
  }
 ],
 "metadata": {
  "kernelspec": {
   "display_name": "Python 3",
   "language": "python",
   "name": "python3"
  },
  "language_info": {
   "codemirror_mode": {
    "name": "ipython",
    "version": 3
   },
   "file_extension": ".py",
   "mimetype": "text/x-python",
   "name": "python",
   "nbconvert_exporter": "python",
   "pygments_lexer": "ipython3",
   "version": "3.10.10"
  }
 },
 "nbformat": 4,
 "nbformat_minor": 2
}
